{
 "cells": [
  {
   "cell_type": "markdown",
   "metadata": {},
   "source": [
    "## Infinite Generators"
   ]
  },
  {
   "cell_type": "code",
   "execution_count": null,
   "metadata": {},
   "outputs": [],
   "source": [
    "def gen():\n",
    "    x = 0\n",
    "    while True:\n",
    "        yield x\n",
    "        x += 1\n",
    "g1 = gen()\n",
    "# list(g1)   # never ends\n",
    "\n"
   ]
  },
  {
   "cell_type": "markdown",
   "metadata": {},
   "source": [
    "###### To run a generator"
   ]
  },
  {
   "cell_type": "code",
   "execution_count": 4,
   "metadata": {},
   "outputs": [
    {
     "name": "stdout",
     "output_type": "stream",
     "text": [
      "0\n",
      "1\n",
      "2\n",
      "3\n",
      "4\n",
      "5\n",
      "6\n",
      "7\n",
      "8\n",
      "9\n",
      "10\n"
     ]
    }
   ],
   "source": [
    "g = gen()   # note this\n",
    "for i in range(11):\n",
    "    print(next(g))\n"
   ]
  },
  {
   "cell_type": "markdown",
   "metadata": {},
   "source": [
    "#### More Generators\n",
    "--> [Read details here](https://stackoverflow.com/a/5165222)"
   ]
  },
  {
   "cell_type": "code",
   "execution_count": 7,
   "metadata": {},
   "outputs": [
    {
     "data": {
      "text/plain": [
       "<generator object <genexpr> at 0x0000000004EF4410>"
      ]
     },
     "execution_count": 7,
     "metadata": {},
     "output_type": "execute_result"
    },
    {
     "data": {
      "text/plain": [
       "0"
      ]
     },
     "execution_count": 7,
     "metadata": {},
     "output_type": "execute_result"
    },
    {
     "data": {
      "text/plain": [
       "{0, 1, 4, 9, 16, 25, 36, 49, 64, 81}"
      ]
     },
     "execution_count": 7,
     "metadata": {},
     "output_type": "execute_result"
    },
    {
     "data": {
      "text/plain": [
       "[0, 1, 4, 9, 16, 25, 36, 49, 64, 81]"
      ]
     },
     "execution_count": 7,
     "metadata": {},
     "output_type": "execute_result"
    }
   ],
   "source": [
    "## this is a \"naked:\" generator, but not printable/gives error\n",
    "#x*x for x in range(10)\n",
    "\n",
    "# BUT this becomes a generator\n",
    "(x*x for x in range(10))\n",
    "next(x*x for x in range(10))       #print out\n",
    "\n",
    "# and THIS becomes set comprehension\n",
    "{x*x for x in range(10)}\n",
    "\n",
    "# and THIS becomes list comprehension\n",
    "[x*x for x in range(10)]\n"
   ]
  },
  {
   "cell_type": "markdown",
   "metadata": {},
   "source": [
    "## Lists and Default values"
   ]
  },
  {
   "cell_type": "code",
   "execution_count": 9,
   "metadata": {},
   "outputs": [
    {
     "name": "stdout",
     "output_type": "stream",
     "text": [
      "[0, 1, 2]\n",
      "[1, 2, 3, 0, 1]\n",
      "[0, 1, 2, 0, 1, 2, 3]\n",
      "[0, 1, 2, 0, 1, 2, 3, 0, 1, 2]\n"
     ]
    }
   ],
   "source": [
    "def abc(x, arr=[]):\n",
    "    for i in range(x):\n",
    "        arr.append(i)\n",
    "    print(arr)\n",
    "    \n",
    "## calling\n",
    "abc(3)\n",
    "abc(2, [1,2,3])\n",
    "abc(4)   ## NOTE THIS: this REUSES the default value for arr / does not wipe it off but instead keeps\n",
    "         ## it in memory for consecutive calls\n",
    "abc(3)   ## same here"
   ]
  },
  {
   "cell_type": "markdown",
   "metadata": {},
   "source": [
    "#### Lists"
   ]
  },
  {
   "cell_type": "code",
   "execution_count": null,
   "metadata": {},
   "outputs": [],
   "source": [
    "## whats the output?\n",
    "a = [1,2,0,False, None, '', \"\",]\n",
    "len(a)"
   ]
  }
 ],
 "metadata": {
  "kernelspec": {
   "display_name": "Python 3",
   "language": "python",
   "name": "python3"
  },
  "language_info": {
   "codemirror_mode": {
    "name": "ipython",
    "version": 3
   },
   "file_extension": ".py",
   "mimetype": "text/x-python",
   "name": "python",
   "nbconvert_exporter": "python",
   "pygments_lexer": "ipython3",
   "version": "3.6.5"
  }
 },
 "nbformat": 4,
 "nbformat_minor": 2
}

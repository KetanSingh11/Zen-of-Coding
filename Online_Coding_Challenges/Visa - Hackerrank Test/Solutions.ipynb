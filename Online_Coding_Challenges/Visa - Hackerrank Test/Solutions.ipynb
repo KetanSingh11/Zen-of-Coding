{
 "cells": [
  {
   "cell_type": "markdown",
   "metadata": {},
   "source": [
    "### Q2"
   ]
  },
  {
   "cell_type": "code",
   "execution_count": null,
   "metadata": {
    "collapsed": true
   },
   "outputs": [],
   "source": [
    "# Complete the function below.\n",
    "\n",
    "from fractions import Fraction\n",
    "\n",
    "def Sum(abvalues):\n",
    "    data = [(int(x.split()[0]), int(x.split()[1])) for x in abvalues]\n",
    "    sum = Fraction(0)\n",
    "    for frac in data:\n",
    "        sum = sum + Fraction(frac[0], frac[1])\n",
    "    \n",
    "    return \"{} {}\".format(sum.numerator, sum.denominator)\n",
    "    "
   ]
  },
  {
   "cell_type": "code",
   "execution_count": null,
   "metadata": {
    "collapsed": true
   },
   "outputs": [],
   "source": []
  },
  {
   "cell_type": "markdown",
   "metadata": {},
   "source": [
    "### Q1"
   ]
  },
  {
   "cell_type": "code",
   "execution_count": null,
   "metadata": {
    "collapsed": true
   },
   "outputs": [],
   "source": [
    "# Enter your code here. Read input from STDIN. Print output to STDOUT\n",
    "\n",
    "T = int(input())\n",
    "data = []\n",
    "output = []\n",
    "\n",
    "from collections import Counter\n",
    "\n",
    "for i in range(T):\n",
    "    word = input().strip()\n",
    "    data.append(word)\n",
    "            \n",
    "    l = len(word)\n",
    "    if l % 2 == 1:\n",
    "        output.append(-1)\n",
    "    else:\n",
    "        count = 0\n",
    "        s1, s2 = Counter(word[:l//2]), Counter(word[l//2:])\n",
    "        for char in s2:\n",
    "            current = s2[char] - s1.get(char,0)\n",
    "            if current > 0:\n",
    "                count += current\n",
    "        \n",
    "        output.append(count)\n",
    "\n",
    "        \n",
    "for x in output:\n",
    "    print(x)\n"
   ]
  }
 ],
 "metadata": {
  "kernelspec": {
   "display_name": "Python 3",
   "language": "python",
   "name": "python3"
  },
  "language_info": {
   "codemirror_mode": {
    "name": "ipython",
    "version": 3
   },
   "file_extension": ".py",
   "mimetype": "text/x-python",
   "name": "python",
   "nbconvert_exporter": "python",
   "pygments_lexer": "ipython3",
   "version": "3.6.3"
  }
 },
 "nbformat": 4,
 "nbformat_minor": 2
}
